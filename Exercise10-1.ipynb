{
 "cells": [
  {
   "cell_type": "markdown",
   "metadata": {
    "collapsed": true
   },
   "source": [
    "### Part 1"
   ]
  },
  {
   "cell_type": "code",
   "execution_count": 11,
   "metadata": {
    "collapsed": false
   },
   "outputs": [],
   "source": [
    "import json\n",
    "import os, sys\n",
    "from pprint import pprint\n",
    "import numpy as np\n",
    "import time\n",
    "\n",
    "path = \"data/\"\n",
    "dirs = os.listdir(path)\n",
    "\n",
    "data = list([])\n",
    "for file in dirs:\n",
    "    temp = json.load(open(path+file))\n",
    "    for i in temp:\n",
    "        a = \"body\" in i.keys()\n",
    "        b = \"topics\" in i.keys()\n",
    "        if a and b:\n",
    "            data.append(i)\n",
    "\n",
    "cutoff = int(1.0/5 * len(data))            \n"
   ]
  },
  {
   "cell_type": "code",
   "execution_count": 17,
   "metadata": {
    "collapsed": false
   },
   "outputs": [
    {
     "name": "stdout",
     "output_type": "stream",
     "text": [
      "Milliseconds used to create bag-of-words:  563185\n",
      "70793\n"
     ]
    }
   ],
   "source": [
    "word_key = list()\n",
    "bag = list()\n",
    "\n",
    "t1 = int(round(time.time() * 1000))\n",
    "\n",
    "for d in data:\n",
    "    row = [0 for i in range(len(word_key))]\n",
    "    for w in d['body'].lower().split():\n",
    "        if w not in word_key:\n",
    "            word_key.append(w)\n",
    "            row.append(0)\n",
    "        i = word_key.index(w)\n",
    "        row[i] += 1\n",
    "    bag.append(row)\n",
    "\n",
    "for d in bag:\n",
    "    while len(d) < len(word_key):\n",
    "        d.append(0)\n",
    "\n",
    "t2 = int(round(time.time() * 1000))\n",
    "\n",
    "print(\"Milliseconds used to create bag-of-words: \", t2-t1)\n",
    "\n",
    "X_train = bag[0:cutoff]\n",
    "X_test = bag[cutoff:-1]\n",
    "y_train = [int('earn' in x[\"topics\"]) for x in data[0:cutoff]]\n",
    "y_test = [int('earn' in x[\"topics\"]) for x in data[cutoff:-1]]\n",
    "\n",
    "print(len(X_train[0]))"
   ]
  },
  {
   "cell_type": "code",
   "execution_count": 13,
   "metadata": {
    "collapsed": false
   },
   "outputs": [],
   "source": [
    "\n",
    "from sklearn.ensemble import RandomForestClassifier\n",
    "from sklearn.datasets import make_classification\n",
    "\n",
    "def predictor(X_train, y_train, X_test, y_test):\n",
    "\n",
    "    clf = RandomForestClassifier()\n",
    "    clf.fit(X_train, y_train)\n",
    "    RandomForestClassifier(n_estimators = 50)\n",
    "\n",
    "    misclassification_count = sum([k*k for k in clf.predict(X_test)-y_test])\n",
    "    misclassification_rate  = misclassification_count/len(y_test)\n",
    "\n",
    "    return (1 - misclassification_rate)"
   ]
  },
  {
   "cell_type": "code",
   "execution_count": null,
   "metadata": {
    "collapsed": false
   },
   "outputs": [],
   "source": []
  },
  {
   "cell_type": "code",
   "execution_count": null,
   "metadata": {
    "collapsed": false
   },
   "outputs": [],
   "source": []
  },
  {
   "cell_type": "code",
   "execution_count": 14,
   "metadata": {
    "collapsed": false
   },
   "outputs": [
    {
     "name": "stdout",
     "output_type": "stream",
     "text": [
      "0.927237682207\n",
      "CPU times: user 1min 9s, sys: 4.34 s, total: 1min 13s\n",
      "Wall time: 1min 36s\n"
     ]
    }
   ],
   "source": [
    "%time print(predictor(X_train, y_train, X_test, y_test))"
   ]
  },
  {
   "cell_type": "markdown",
   "metadata": {},
   "source": [
    "### Part 2"
   ]
  },
  {
   "cell_type": "code",
   "execution_count": 5,
   "metadata": {
    "collapsed": true
   },
   "outputs": [],
   "source": [
    "import pymmh3\n",
    "\n",
    "def hash_to_bucket(e, B):\n",
    "    i = pymmh3.hash128(str(e))\n",
    "    p = i / float(2**128)\n",
    "    for j in range(0, B):\n",
    "        if j/float(B) <= p and (j+1)/float(B) > p:\n",
    "            return j+1\n",
    "    return B\n"
   ]
  },
  {
   "cell_type": "code",
   "execution_count": 15,
   "metadata": {
    "collapsed": false
   },
   "outputs": [
    {
     "name": "stdout",
     "output_type": "stream",
     "text": [
      "Milliseconds used to create hash table:  576163\n"
     ]
    }
   ],
   "source": [
    "\n",
    "t1 = int(round(time.time() * 1000))\n",
    "\n",
    "y_train = [int('earn' in x[\"topics\"]) for x in data[0:cutoff]]\n",
    "y_test = [int('earn' in x[\"topics\"]) for x in data[cutoff:-1]]\n",
    "\n",
    "M = [[hash_to_bucket(w, 1000) for w in a['body'].lower().split()] for a in data]\n",
    "X = [[0 for i in range(1000)] for j in range(len(data))]\n",
    "for i in range(len(data)):\n",
    "    for j in M[i]:\n",
    "        X[i][j-1] += 1\n",
    "\n",
    "t2 = int(round(time.time() * 1000))\n",
    "\n",
    "print(\"Milliseconds used to create hash table: \", t2-t1)\n",
    "\n"
   ]
  },
  {
   "cell_type": "code",
   "execution_count": 16,
   "metadata": {
    "collapsed": false
   },
   "outputs": [
    {
     "name": "stdout",
     "output_type": "stream",
     "text": [
      "0.920130104807\n"
     ]
    }
   ],
   "source": [
    "\n",
    "X_train =  X[0:cutoff]\n",
    "X_test = X[cutoff:-1]\n",
    "\n",
    "print(predictor(X_train, y_train, X_test, y_test))\n"
   ]
  },
  {
   "cell_type": "code",
   "execution_count": null,
   "metadata": {
    "collapsed": true
   },
   "outputs": [],
   "source": []
  },
  {
   "cell_type": "code",
   "execution_count": null,
   "metadata": {
    "collapsed": true
   },
   "outputs": [],
   "source": []
  }
 ],
 "metadata": {
  "anaconda-cloud": {},
  "kernelspec": {
   "display_name": "Python [Root]",
   "language": "python",
   "name": "Python [Root]"
  },
  "language_info": {
   "codemirror_mode": {
    "name": "ipython",
    "version": 3
   },
   "file_extension": ".py",
   "mimetype": "text/x-python",
   "name": "python",
   "nbconvert_exporter": "python",
   "pygments_lexer": "ipython3",
   "version": "3.5.2"
  }
 },
 "nbformat": 4,
 "nbformat_minor": 0
}
