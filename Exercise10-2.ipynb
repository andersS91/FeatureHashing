{
 "cells": [
  {
   "cell_type": "code",
   "execution_count": 41,
   "metadata": {},
   "outputs": [
    {
     "name": "stdout",
     "output_type": "stream",
     "text": [
      "Image 1 hex value: 8393F7F9F1D1D3F1\n",
      "Image 2 hex value: 8393F7F9F9D1D3F1\n",
      "Difference between the two images: -0x8000000\n"
     ]
    }
   ],
   "source": [
    "from PIL import Image\n",
    "size = 8\n",
    "\n",
    "im1 = Image.open(\"image1.jpg\")\n",
    "im1 = im1.resize((size, size), Image.ANTIALIAS)\n",
    "im1 = im1.convert(\"L\")\n",
    "pixels1 = list(im1.getdata())\n",
    "avg1 = sum(pixels1)/len(pixels1)\n",
    "\n",
    "bits1 = \"\".join(map(lambda pixel1: '1' if pixel1 < avg2 else '0', pixels1))\n",
    "hex1 = int(bits1, 2).__format__('016x').upper()\n",
    "\n",
    "im2 = Image.open(\"image2.jpg\")\n",
    "im2 = im2.resize((size, size), Image.ANTIALIAS)\n",
    "im2 = im2.convert(\"L\")\n",
    "pixels2 = list(im2.getdata())\n",
    "avg2 = sum(pixels2)/len(pixels2)\n",
    "\n",
    "bits2 = \"\".join(map(lambda pixel2: '1' if pixel2 < avg2 else '0', pixels2))\n",
    "hex2 = int(bits2, 2).__format__('016x').upper()\n",
    "\n",
    "diff = hex(int(hex1,16)-int(hex2,16))\n",
    "\n",
    "print(\"Image 1 hex value: \"+hex1)\n",
    "print(\"Image 2 hex value: \"+hex2)\n",
    "print(\"Difference between the two images: \"+diff)\n"
   ]
  },
  {
   "cell_type": "code",
   "execution_count": null,
   "metadata": {
    "collapsed": true
   },
   "outputs": [],
   "source": []
  }
 ],
 "metadata": {
  "kernelspec": {
   "display_name": "Python 3",
   "language": "python",
   "name": "python3"
  },
  "language_info": {
   "codemirror_mode": {
    "name": "ipython",
    "version": 3
   },
   "file_extension": ".py",
   "mimetype": "text/x-python",
   "name": "python",
   "nbconvert_exporter": "python",
   "pygments_lexer": "ipython3",
   "version": "3.6.1"
  }
 },
 "nbformat": 4,
 "nbformat_minor": 2
}
